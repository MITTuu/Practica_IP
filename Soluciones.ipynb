{
 "cells": [
  {
   "cell_type": "markdown",
   "metadata": {},
   "source": [
    "## numeroHermano(num)\n",
    "\n",
    "Escriba un programa con sintaxis Python cuya función principal se llame **numeroHermano(num)**, que reciba como entrada un **número entero positivo** denominado num y que retorne si cumple (True) o no los requisitos (False) de número hermano. Un número hermano es un número natural y que posee al menos dos divisores primos (el 1 no es primo):\n",
    "\n",
    "Ejemplos del comportamiento de la función:\n",
    "\n",
    "```python\n",
    ">>>numeroHermano(20) #(divisores propios: 2, 4, 5, 10)\n",
    "True\n",
    ">>> numeroHermano(8) #(divisores propios: 2,4)\n",
    "False\n",
    ">>> numeroHermano(-8)\n",
    "\"Error en la entrada, debe ser número positivo\"\n",
    "```"
   ]
  },
  {
   "cell_type": "code",
   "execution_count": 9,
   "metadata": {},
   "outputs": [
    {
     "name": "stdout",
     "output_type": "stream",
     "text": [
      "Divisore propio: 1\n",
      "Divisore propio: 2\n",
      "    - 2 Es primo\n",
      "Divisore propio: 4\n",
      "Divisore propio: 5\n",
      "    - 5 Es primo\n",
      "Divisore propio: 10\n",
      "Divisore propio: 20\n"
     ]
    },
    {
     "data": {
      "text/plain": [
       "True"
      ]
     },
     "execution_count": 9,
     "metadata": {},
     "output_type": "execute_result"
    }
   ],
   "source": [
    "def esPrimo(numero):\n",
    "    # El 1 no es primo\n",
    "    if (numero == 1):\n",
    "        return False\n",
    "    \n",
    "    # Un número primo solo es divisible por 1 y por el mismo\n",
    "    # si hacemos un rango que vaya de 2 a mi numero menos 1 y\n",
    "    # encontramos un divisor, significa que el número no es primo.\n",
    "    for num in range(2, numero):\n",
    "        if (numero % num) == 0:\n",
    "            return False\n",
    "    return True\n",
    "\n",
    "def numHermano(numero):\n",
    "    if not isinstance(numero, int):\n",
    "        return \"Error: el numero debe ser entero\"\n",
    "    \n",
    "    contador = 0\n",
    "    for num in range(1, numero+1):\n",
    "        if (numero % num) == 0:\n",
    "            print(f\"Divisore propio: {num}\")\n",
    "            if esPrimo(num):\n",
    "                print(f\"    - {num} Es primo\")\n",
    "                contador += 1\n",
    "    \n",
    "    if contador >= 2:\n",
    "        return True\n",
    "    \n",
    "    return False\n",
    "\n",
    "numHermano(20)"
   ]
  },
  {
   "cell_type": "markdown",
   "metadata": {},
   "source": [
    "## esVectorOrdenado(vector, forma)\n",
    "\n",
    "Escriba un programa con sintaxis Python cuya función principal se llame **esVectorOrdenado(vector, forma)**, que reciba como entradas un **vector** y una **forma**, este último será un string que especificará si el vector está ordenado en forma **ascendente o descendente**. Esta función retornará **True** si el vector corresponde al tipo de ordenamiento o **False** del caso contrario. No se puede usar su representación inversa o reversa del número\n",
    "\n",
    "Los valores para **forma** son:  'asc' o 'desc'\n",
    "\n",
    "```python\n",
    ">>> esVectorOrdenado([23, 656, 5533, 8120], 'asc')\n",
    "True\n",
    ">>> esVectorOrdenado([15, 4, 0], 'desc')\n",
    "True\n",
    ">>> esVectorOrdenado([11, 45], 'desc')\n",
    "False\n",
    "```"
   ]
  },
  {
   "cell_type": "code",
   "execution_count": 13,
   "metadata": {},
   "outputs": [
    {
     "name": "stdout",
     "output_type": "stream",
     "text": [
      "True\n",
      "False\n",
      "Error: forma invalida\n"
     ]
    }
   ],
   "source": [
    "def largoLista(lista):\n",
    "    contador = 0\n",
    "    for _ in lista:\n",
    "        contador += 1\n",
    "    return contador\n",
    "\n",
    "def esVectorOrdenado(vector, forma):\n",
    "    if not isinstance(vector, list):\n",
    "        return \"Error: el vector no es una lista\"\n",
    "    \n",
    "    # El vector (lista) debe contener elementos únicamente númericos,\n",
    "    # en este caso entero\n",
    "    for elemento in vector:\n",
    "        if not isinstance(elemento, int):\n",
    "            return \"Error: el vector dado no es un vector válido\"\n",
    "\n",
    "    largo = largoLista(vector) - 1\n",
    "\n",
    "    if forma == 'asc':\n",
    "        # Verifica si cada elemento es menor o igual al siguiente\n",
    "        for i in range(largo):\n",
    "            if vector[i] > vector[i + 1]:\n",
    "                return False\n",
    "        return True\n",
    "    elif forma == 'desc':\n",
    "        # Verifica si cada elemento es mayor o igual al siguiente\n",
    "        for i in range(largo):\n",
    "            if vector[i] < vector[i + 1]:\n",
    "                return False\n",
    "        return True\n",
    "    \n",
    "    # Si la forma no es 'asc' o 'desc'\n",
    "    else:\n",
    "        return False\n",
    "\n",
    "print(esVectorOrdenado([23, 656, 5533, 8120], 'asc'))      \n",
    "print(esVectorOrdenado([11, 45], 'desc'))             \n",
    "print(esVectorOrdenado([11, 45], 'abc'))       "
   ]
  },
  {
   "cell_type": "markdown",
   "metadata": {},
   "source": [
    "## digitoMayoryMenor(lista)\n",
    "\n",
    "Escriba un programa con sintaxis Python cuya función principal se llame **digitoMayoryMenor(lista)**, que reciba como entrada una **lista** con número **enteros**, y que retorne una lista de nuevos números que estará compuesto por los dígitos mayor y menor del número analizado.\n",
    "\n",
    "```python\n",
    ">>> digitoMayoryMenor([2300, 6756])\n",
    "[30, 75]\n",
    ">>> digitoMayoryMenor([2300, 6756, -99, 1001, 91823])\n",
    "[30, 75, -99, 10, 91]\n",
    "\n",
    "```"
   ]
  },
  {
   "cell_type": "code",
   "execution_count": 32,
   "metadata": {},
   "outputs": [
    {
     "name": "stdout",
     "output_type": "stream",
     "text": [
      "[30, 75]\n",
      "[30, 75, -99, 10, 91]\n"
     ]
    }
   ],
   "source": [
    "def obtenerDigitoMayorYMenor(num):\n",
    "    digito_mayor = 0\n",
    "    digito_menor = 9 \n",
    "\n",
    "    while num != 0:\n",
    "        digito = num % 10\n",
    "        if digito < 0:\n",
    "            digito = -digito\n",
    "        \n",
    "        if digito > digito_mayor:\n",
    "            digito_mayor = digito\n",
    "        if digito < digito_menor:\n",
    "            digito_menor = digito\n",
    "        num //= 10\n",
    "\n",
    "    return [digito_mayor, digito_menor]\n",
    "\n",
    "def digitoMayoryMenor(lista):\n",
    "    if not isinstance(lista, list):\n",
    "        return \"Error: la entrada no es una lista válida.\"\n",
    "    \n",
    "    resultado = []\n",
    "    signo = False\n",
    "    for num in lista:\n",
    "        if num < 0:\n",
    "            signo = True\n",
    "            num *= -1\n",
    "\n",
    "        digitos = obtenerDigitoMayorYMenor(num)\n",
    "\n",
    "        digito_mayor = digitos[0]\n",
    "        digito_menor = digitos[1]\n",
    "\n",
    "        nuevo_numero = digito_mayor * 10 + digito_menor\n",
    "        \n",
    "        # Restaurar signo si el número original era negativo\n",
    "        if signo:\n",
    "            signo = False\n",
    "            nuevo_numero *= -1\n",
    "\n",
    "        resultado += [nuevo_numero]\n",
    "    \n",
    "    return resultado\n",
    "\n",
    "resultado1 = digitoMayoryMenor([2300, 6756])\n",
    "print(resultado1)\n",
    "\n",
    "resultado2 = digitoMayoryMenor([2300, 6756, -99, 1001, 91823])\n",
    "print(resultado2)"
   ]
  },
  {
   "cell_type": "markdown",
   "metadata": {},
   "source": [
    "## numero polimax\n",
    "\n",
    "Escriba una función llamada esPolimax(num) que reciba como entrada un número entero positivo num y determine si es un \"Número Polimax\". Un número es Polimax si, al dividirlo en dos mitades de igual longitud, ambas mitades tienen la misma cantidad de dígitos pares e impares. Si el número tiene una cantidad par de dígitos, y las dos mitades tienen la misma cantidad de dígitos pares e impares, la función debe retornar True; de lo contrario, debe retornar False.\n",
    "\n",
    "```python\n",
    ">>> esPolimax(123321)\n",
    "True  # Mitades: 123 y 321 (1 par, 2 impares en cada mitad)\n",
    ">>> esPolimax(1221)\n",
    "False # Mitades: 12 y 21 (1 par, 1 impar en la primera mitad; 0 pares, 2 impares en la segunda mitad)\n",
    ">>> esPolimax(123456)\n",
    "False # Mitades: 123 y 456 (0 pares, 3 impares en la primera mitad; 3 pares, 0 impares en la segunda mitad)\n",
    ">>> esPolimax(4444)\n",
    "True  # Mitades: 44 y 44 (2 pares, 0 impares en cada mitad)\n",
    ">>> esPolimax(123)\n",
    "False # Cantidad impar de dígitos\n",
    "```"
   ]
  },
  {
   "cell_type": "code",
   "execution_count": 19,
   "metadata": {},
   "outputs": [
    {
     "data": {
      "text/plain": [
       "True"
      ]
     },
     "execution_count": 19,
     "metadata": {},
     "output_type": "execute_result"
    }
   ],
   "source": [
    "def contarDigitos(num):\n",
    "    contador = 0\n",
    "    while num > 0:\n",
    "        contador += 1\n",
    "        num //= 10\n",
    "    return contador\n",
    "\n",
    "def numeroPolimax(num):\n",
    "    if not isinstance(num, int):\n",
    "        return \"Error: num debe ser entero\"\n",
    "    \n",
    "    if num < 0:\n",
    "        num *= -1\n",
    "\n",
    "    digitos = contarDigitos(num)\n",
    "\n",
    "    if (digitos % 2) != 0:\n",
    "        return \"Error: num debe tener un largo par\"\n",
    "    \n",
    "    # Separar el número en dos partes iguales\n",
    "    numIzquierda = int(num // 10**(digitos/2)) # 4312 == 43\n",
    "    numDerecha = int(num % 10**(digitos/2))  # 4312 == 12\n",
    "\n",
    "    # Contadores pares e impares para cada parte\n",
    "    cantidadParesD = 0\n",
    "    cantidadImparesD = 0\n",
    "\n",
    "    cantidadParesI = 0\n",
    "    cantidadImparesI = 0\n",
    "\n",
    "    while numIzquierda > 0 and numDerecha > 0:\n",
    "        if (numDerecha % 2) == 0:\n",
    "            cantidadParesD += 1\n",
    "        elif (numDerecha % 2) != 0:\n",
    "            cantidadImparesD += 1\n",
    "        \n",
    "        if (numIzquierda % 2) == 0:\n",
    "            cantidadParesI += 1\n",
    "        elif (numIzquierda % 2) != 0:\n",
    "            cantidadImparesI += 1\n",
    "\n",
    "        numDerecha //= 10\n",
    "        numIzquierda //= 10\n",
    "\n",
    "    if (cantidadImparesD == cantidadImparesI) and (cantidadParesD == cantidadParesI):\n",
    "        return True\n",
    "    \n",
    "    return False\n",
    "\n",
    "numeroPolimax(2101)"
   ]
  }
 ],
 "metadata": {
  "kernelspec": {
   "display_name": "Python 3",
   "language": "python",
   "name": "python3"
  },
  "language_info": {
   "codemirror_mode": {
    "name": "ipython",
    "version": 3
   },
   "file_extension": ".py",
   "mimetype": "text/x-python",
   "name": "python",
   "nbconvert_exporter": "python",
   "pygments_lexer": "ipython3",
   "version": "3.12.3"
  }
 },
 "nbformat": 4,
 "nbformat_minor": 2
}
